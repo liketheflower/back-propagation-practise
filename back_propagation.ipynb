{
 "cells": [
  {
   "cell_type": "code",
   "execution_count": 1,
   "metadata": {
    "collapsed": false,
    "deletable": true,
    "editable": true
   },
   "outputs": [
    {
     "name": "stdout",
     "output_type": "stream",
     "text": [
      "-12\n",
      "initialize: 0 0 0\n"
     ]
    },
    {
     "data": {
      "image/png": "[encoded data removed]",
      "text/plain": [
       "<matplotlib.figure.Figure at 0x104705780>"
      ]
     },
     "metadata": {},
     "output_type": "display_data"
    },
    {
     "data": {
      "image/png": "[encoded data removed]",
      "text/plain": [
       "<matplotlib.figure.Figure at 0x103fc80f0>"
      ]
     },
     "metadata": {},
     "output_type": "display_data"
    }
   ],
   "source": [
    "% matplotlib inline\n",
    "import numpy as np\n",
    "import matplotlib.pyplot as plt\n",
    "x = -2; y = 5; z = -4\n",
    "print((x+y)*z)\n",
    "\n",
    "\n",
    "q = x + y # q becomes 3\n",
    "f = q * z # f becomes -12\n",
    "\n",
    "# perform the backward pass (backpropagation) in reverse order:\n",
    "# first backprop through f = q * z\n",
    "dfdz = q # df/dz = q, so gradient on z becomes 3\n",
    "dfdq = z # df/dq = z, so gradient on q becomes -4\n",
    "# now backprop through q = x + y\n",
    "dfdx = 1.0 * dfdq # dq/dx = 1. And the multiplication here is the chain rule!\n",
    "dfdy = 1.0 * dfdq # dq/dy = 1\n",
    "\n",
    "\n",
    "def get_dfdxdydz(x,y,z):\n",
    "    q = x + y # q becomes 3\n",
    "    f = q * z # f becomes -12\n",
    "    dfdz = q # df/dz = q, so gradient on z becomes 3\n",
    "    dfdq = z # df/dq = z, so gradient on q becomes -4\n",
    "    # now backprop through q = x + y\n",
    "    dfdx = 1.0 * dfdq # dq/dx = 1. And the multiplication here is the chain rule!\n",
    "    dfdy = 1.0 * dfdq # dq/dy = 1\n",
    "    return dfdx, dfdy, dfdz\n",
    "target_value=100\n",
    "lr = 0.3\n",
    "decay=0.01\n",
    "#lr=lr*(1/(1+decay*epoch))\n",
    "#if 10<epoch<1000  lear =0.01\n",
    "#if 1000<epoch<10000  lear =0.001\n",
    "out_put = (x+y)*z\n",
    "x=0\n",
    "y=0\n",
    "z=0\n",
    "epoch=[]\n",
    "learning_rate=[]\n",
    "\n",
    "output=[(x+y)*z]\n",
    "print(\"initialize:\",x,y,z)\n",
    "for i in range(10000):\n",
    "    \n",
    "    epoch.append(i)\n",
    "    learning_rate.append(lr*(1/(1+decay*epoch[i])))\n",
    "    if output[i]<=target_value:\n",
    "        x += learning_rate[i]*dfdx\n",
    "        y += learning_rate[i]*dfdy\n",
    "        z += learning_rate[i]*dfdz\n",
    "        dfdx, dfdy, dfdz = get_dfdxdydz(x,y,z)\n",
    "        #print(\"dfdx, dfdy, dfdz\",dfdx, dfdy, dfdz)\n",
    "    else:\n",
    "        x -= learning_rate[i]*dfdx\n",
    "        y -= learning_rate[i]*dfdy\n",
    "        z -= learning_rate[i]*dfdz \n",
    "        dfdx, dfdy, dfdz = get_dfdxdydz(x,y,z)\n",
    "        #print(\"dfdx, dfdy, dfdz\",dfdx, dfdy, dfdz)\n",
    "    output.append((x+y)*z)\n",
    "    \n",
    "#print(\"output\",output)\n",
    "plt.plot(epoch,output[1:],c='r')\n",
    "plt.title(\"Updated output vs epoch, target = 100\")\n",
    "plt.show()\n",
    "plt.plot(epoch,learning_rate,c='g')\n",
    "plt.title(\"learning rate vs epoch\")\n",
    "plt.show()"
   ]
  },
  {
   "cell_type": "code",
   "execution_count": 1,
   "metadata": {
    "collapsed": false,
    "deletable": true,
    "editable": true
   },
   "outputs": [
    {
     "name": "stdout",
     "output_type": "stream",
     "text": [
      "50352619520\n"
     ]
    }
   ],
   "source": [
    "print(784*784*128*64*10)"
   ]
  },
  {
   "cell_type": "code",
   "execution_count": null,
   "metadata": {
    "collapsed": true,
    "deletable": true,
    "editable": true
   },
   "outputs": [],
   "source": []
  }
 ],
 "metadata": {
  "kernelspec": {
   "display_name": "Python 3",
   "language": "python",
   "name": "python3"
  },
  "language_info": {
   "codemirror_mode": {
    "name": "ipython",
    "version": 3
   },
   "file_extension": ".py",
   "mimetype": "text/x-python",
   "name": "python",
   "nbconvert_exporter": "python",
   "pygments_lexer": "ipython3",
   "version": "3.5.3"
  }
 },
 "nbformat": 4,
 "nbformat_minor": 2
}
